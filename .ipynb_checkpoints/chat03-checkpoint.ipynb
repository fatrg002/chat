{
 "cells": [
  {
   "cell_type": "code",
   "execution_count": 3,
   "metadata": {},
   "outputs": [
    {
     "name": "stdout",
     "output_type": "stream",
     "text": [
      "13:32\n",
      "13:34\n",
      "13:34\n",
      "13:34\n",
      "13:34\n"
     ]
    }
   ],
   "source": [
    "lines = []\n",
    "with open ('3.txt','r',encoding = 'utf-8-sig') as f :\n",
    "    for line in f:\n",
    "        lines.append(line.strip())#除掉換行符號strip()\n",
    "for line in lines:\n",
    "    s = line.split(' ')\n",
    "    time = s[0][:5]\n",
    "    name = s[0][5:]\n",
    "    print(time)\n"
   ]
  },
  {
   "cell_type": "code",
   "execution_count": null,
   "metadata": {},
   "outputs": [],
   "source": []
  }
 ],
 "metadata": {
  "kernelspec": {
   "display_name": "Python 3",
   "language": "python",
   "name": "python3"
  },
  "language_info": {
   "codemirror_mode": {
    "name": "ipython",
    "version": 3
   },
   "file_extension": ".py",
   "mimetype": "text/x-python",
   "name": "python",
   "nbconvert_exporter": "python",
   "pygments_lexer": "ipython3",
   "version": "3.7.3"
  }
 },
 "nbformat": 4,
 "nbformat_minor": 2
}
