{
 "cells": [
  {
   "cell_type": "code",
   "execution_count": 10,
   "metadata": {},
   "outputs": [
    {
     "name": "stdout",
     "output_type": "stream",
     "text": [
      "['Allen : 哈囉', 'Allen : 你好', 'Tom : 你好', 'Tom : 今天一樣是買三份雞肉飯嗎?', 'Allen : 對', 'Allen : 飲料一樣紅茶', 'Tom : 半糖去冰對不對', 'Allen : 對，謝謝，我十分鐘後到']\n"
     ]
    }
   ],
   "source": [
    "#讀取檔案\n",
    "def read_file(filename):\n",
    "    lines = []\n",
    "    with open (filename,'r',encoding = 'utf-8-sig') as f:\n",
    "        for line in f :\n",
    "            lines.append(line.strip())\n",
    "    return lines\n",
    "\n",
    "def convert(lines):\n",
    "    \n",
    "    new = []\n",
    "    person = None\n",
    "    for line in lines:\n",
    "        if line == 'Allen':\n",
    "            person = 'Allen'\n",
    "            continue\n",
    "        elif line == 'Tom':\n",
    "            person = 'Tom'\n",
    "            continue\n",
    "        if person:\n",
    "            new.append(person + ' : ' + line)\n",
    "    return new\n",
    "\n",
    "#寫入檔案\n",
    "def write_file(filename,lines):\n",
    "    with open(filename,'w',encoding='utf-8-sig') as f:\n",
    "        for line in lines:\n",
    "            f.write(line + '\\n')\n",
    "        \n",
    "        \n",
    "\n",
    "def main():\n",
    "    \n",
    "    lines = read_file('input.txt')\n",
    "    lines = convert(lines)\n",
    "    write_file('output.txt')\n",
    "main()"
   ]
  },
  {
   "cell_type": "code",
   "execution_count": null,
   "metadata": {},
   "outputs": [],
   "source": []
  }
 ],
 "metadata": {
  "kernelspec": {
   "display_name": "Python 3",
   "language": "python",
   "name": "python3"
  },
  "language_info": {
   "codemirror_mode": {
    "name": "ipython",
    "version": 3
   },
   "file_extension": ".py",
   "mimetype": "text/x-python",
   "name": "python",
   "nbconvert_exporter": "python",
   "pygments_lexer": "ipython3",
   "version": "3.7.3"
  }
 },
 "nbformat": 4,
 "nbformat_minor": 2
}
