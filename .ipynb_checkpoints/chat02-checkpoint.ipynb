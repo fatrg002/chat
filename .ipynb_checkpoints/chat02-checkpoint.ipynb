{
 "cells": [
  {
   "cell_type": "code",
   "execution_count": 15,
   "metadata": {},
   "outputs": [
    {
     "name": "stdout",
     "output_type": "stream",
     "text": [
      "13:32 Allen 請問分公司代號是 9432 嗎\n",
      "13:34 Viki 那是據點代號\n",
      "13:34 Viki 如果是語音\n",
      "13:34 Viki 我們的代號是24\n",
      "13:34 Allen 好\n",
      "13:35 Viki 先解鎖\n",
      "13:35 Viki 後面我再教您如何作業\n",
      "13:37 Allen 已經解鎖\n",
      "13:37 Allen 軟體可以登入\n",
      "13:37 Allen 但申請的地方還是登入不了\n",
      "13:37 Allen 圖片\n",
      "13:39 Viki 您是不是用EDGE？\n",
      "13:39 Viki 或者CHOME？\n",
      "13:39 Viki Chrome?\n",
      "13:39 Allen 這是下載下來的程式\n",
      "13:39 Viki 公司目前只接受用IE\n",
      "13:39 Viki 其它不能用哦\n",
      "13:39 Allen 從申請專區按立刻申請  就會下載這個程式\n",
      "13:40 Allen 圖片\n",
      "13:40 Allen 這個按下去會下載程式   打開來就是我剛剛登入不了的地方\n",
      "18:23 Viki 未接來電\n",
      "18:24 Viki 貼圖\n",
      "18:29 Viki 後來有搞定嗎？\n",
      "18:29 Viki 我先說明幾個重點讓您試試\n",
      "18:30 Viki 第一要用IE，不能用edge或chrome\n",
      "18:31 Viki 圖片\n",
      "18:32 Viki 如果您確定您登入的是IE無誤再麻煩您做二個歩驟\n",
      "18:32 Viki 圖片\n",
      "18:32 Viki 圖片\n",
      "18:32 Viki 圖片\n",
      "18:33 Viki 把安控元件及環境調整跑一跑\n",
      "18:33 Viki 有95%的機率會OK\n",
      "22:33 Allen 好，我現在試試看\n"
     ]
    }
   ],
   "source": [
    "#讀取檔案\n",
    "def read_file(filename):\n",
    "    lines = []\n",
    "    with open (filename,'r',encoding = 'utf-8-sig') as f:\n",
    "        for line in f :\n",
    "            lines.append(line.strip())\n",
    "    return lines\n",
    "\n",
    "#轉換行列\n",
    "def convert(lines):\n",
    "    \n",
    "    new = []\n",
    "    person = None #預設person是沒有\n",
    "    for line in lines:\n",
    "       print(line)\n",
    "    return new\n",
    "\n",
    "#寫入檔案\n",
    "def write_file(filename,lines):\n",
    "    with open(filename,'w',encoding='utf-8-sig') as f:\n",
    "        for line in lines:\n",
    "            f.write(line + '\\n')\n",
    "        \n",
    "        \n",
    "\n",
    "def main():\n",
    "    \n",
    "    lines = read_file('-LINE-Viki.txt')\n",
    "    lines = convert(lines)\n",
    "    #write_file('outputviki.txt',lines)\n",
    "    \n",
    "main()"
   ]
  },
  {
   "cell_type": "code",
   "execution_count": null,
   "metadata": {},
   "outputs": [],
   "source": []
  },
  {
   "cell_type": "code",
   "execution_count": null,
   "metadata": {},
   "outputs": [],
   "source": []
  }
 ],
 "metadata": {
  "kernelspec": {
   "display_name": "Python 3",
   "language": "python",
   "name": "python3"
  },
  "language_info": {
   "codemirror_mode": {
    "name": "ipython",
    "version": 3
   },
   "file_extension": ".py",
   "mimetype": "text/x-python",
   "name": "python",
   "nbconvert_exporter": "python",
   "pygments_lexer": "ipython3",
   "version": "3.7.3"
  }
 },
 "nbformat": 4,
 "nbformat_minor": 2
}
