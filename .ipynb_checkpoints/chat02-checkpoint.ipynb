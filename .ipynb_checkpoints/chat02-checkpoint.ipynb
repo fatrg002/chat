{
 "cells": [
  {
   "cell_type": "code",
   "execution_count": 24,
   "metadata": {},
   "outputs": [
    {
     "name": "stdout",
     "output_type": "stream",
     "text": [
      "Allen說了: 100 個字 傳了 0 個貼圖\n",
      "Viki說了: 171 個字 傳了 1 個貼圖\n"
     ]
    }
   ],
   "source": [
    "#讀取檔案\n",
    "def read_file(filename):\n",
    "    lines = []\n",
    "    with open (filename,'r',encoding = 'utf-8-sig') as f:\n",
    "        for line in f :\n",
    "            lines.append(line.strip())\n",
    "    return lines\n",
    "\n",
    "#轉換行列\n",
    "def convert(lines):\n",
    "    new = []\n",
    "    person = None #預設person是沒有\n",
    "    allen_word_count = 0\n",
    "    viki_word_count = 0\n",
    "    allen_sticker_count = 0\n",
    "    viki_sticker_count = 0\n",
    "    allen_image_count = 0\n",
    "    viki_image_count = 0\n",
    "    for line in lines:\n",
    "        s= line.split(' ')\n",
    "        time = s[0]\n",
    "        name = s[1]\n",
    "        if name == 'Allen':\n",
    "            if s[2] == '貼圖':\n",
    "                allen_sticker_count += 1\n",
    "            elif s[2] == '圖片':\n",
    "                allen_image_count += 1\n",
    "                \n",
    "            else:\n",
    "                for m in s[2:]:\n",
    "                    allen_word_count += len(m)\n",
    "        \n",
    "        elif name == 'Viki':\n",
    "            if s[2] == '貼圖':\n",
    "                viki_sticker_count += 1\n",
    "            elif s[2] == '圖片':\n",
    "                viki_image_count += 1\n",
    "            \n",
    "            else:\n",
    "                for m in s[2:]:\n",
    "                    viki_word_count += len(m)\n",
    "    print('Allen說了:',allen_word_count,'個字','傳了',allen_sticker_count,'個貼圖',allen_image_count,'個圖片')\n",
    "    print('Viki說了:',viki_word_count,'個字','傳了',viki_sticker_count,'個貼圖',viki_image_count,'個圖片')\n",
    "    return new\n",
    "\n",
    "#寫入檔案\n",
    "def write_file(filename,lines):\n",
    "    with open(filename,'w',encoding='utf-8-sig') as f:\n",
    "        for line in lines:\n",
    "            f.write(line + '\\n')\n",
    "        \n",
    "        \n",
    "\n",
    "def main():\n",
    "    \n",
    "    lines = read_file('-LINE-Viki.txt')\n",
    "    lines = convert(lines)\n",
    "    #write_file('outputviki.txt',lines)\n",
    "    \n",
    "main()"
   ]
  },
  {
   "cell_type": "code",
   "execution_count": null,
   "metadata": {},
   "outputs": [],
   "source": []
  },
  {
   "cell_type": "code",
   "execution_count": null,
   "metadata": {},
   "outputs": [],
   "source": []
  }
 ],
 "metadata": {
  "kernelspec": {
   "display_name": "Python 3",
   "language": "python",
   "name": "python3"
  },
  "language_info": {
   "codemirror_mode": {
    "name": "ipython",
    "version": 3
   },
   "file_extension": ".py",
   "mimetype": "text/x-python",
   "name": "python",
   "nbconvert_exporter": "python",
   "pygments_lexer": "ipython3",
   "version": "3.7.3"
  }
 },
 "nbformat": 4,
 "nbformat_minor": 2
}
