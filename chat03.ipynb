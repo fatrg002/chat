{
 "cells": [
  {
   "cell_type": "code",
   "execution_count": 1,
   "metadata": {},
   "outputs": [
    {
     "name": "stdout",
     "output_type": "stream",
     "text": [
      "['13:32Allen', '請問分公司代號是', '9432', '嗎']\n",
      "['13:34Viki', '那是據點代號']\n",
      "['13:34Viki', '如果是語音']\n",
      "['13:34Viki', '我們的代號是24']\n",
      "['13:34Allen', '好']\n"
     ]
    }
   ],
   "source": [
    "lines = []\n",
    "with open ('3.txt','r',encoding = 'utf-8-sig') as f :\n",
    "    for line in f:\n",
    "        lines.append(line.strip())#除掉換行符號strip()\n",
    "for line in lines:\n",
    "    s = line.split(' ')\n",
    "    time = s[0][:5]\n",
    "    name = s[0][5:]\n",
    "    print(s)\n"
   ]
  },
  {
   "cell_type": "code",
   "execution_count": null,
   "metadata": {},
   "outputs": [],
   "source": []
  }
 ],
 "metadata": {
  "kernelspec": {
   "display_name": "Python 3",
   "language": "python",
   "name": "python3"
  },
  "language_info": {
   "codemirror_mode": {
    "name": "ipython",
    "version": 3
   },
   "file_extension": ".py",
   "mimetype": "text/x-python",
   "name": "python",
   "nbconvert_exporter": "python",
   "pygments_lexer": "ipython3",
   "version": "3.7.3"
  }
 },
 "nbformat": 4,
 "nbformat_minor": 2
}
